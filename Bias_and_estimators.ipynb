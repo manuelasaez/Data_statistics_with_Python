{
  "cells": [
    {
      "cell_type": "markdown",
      "id": "ecbc8823-a1ca-4c2c-821c-90eb22ca226d",
      "metadata": {
        "id": "ecbc8823-a1ca-4c2c-821c-90eb22ca226d"
      },
      "source": [
        "## Trabajo Práctico 4 - Estimación de parámetros\n",
        "\n",
        "---\n",
        "\n",
        "Simular una muestra de dos variables aleatorias $X_1$ y $X_2$ que siguen una distribución normal estándar. Calcular la varianza muestral $s^2$. Considerar dos estimadores diferentes de la desviación estándar $t_1 = \\sqrt{s^2}$ y $t_2 = \\sqrt{\\pi s^2/2}$. Repetir la simulación 1000 veces y construir los histogramas de frecuencia de $t_1$ y $t_2$. Decidir si los estimadores $t_1$ y $t_2$ son sesgados o no. Discutir porque el estimador de varianza $s^2$ no tiene sesgo pero el estimador de la desviación estándar $t_1 = \\sqrt(s^2)$ es sesgado.\n"
      ]
    },
    {
      "cell_type": "code",
      "source": [
        "import numpy as np\n",
        "import matplotlib.pyplot as plt\n",
        "from scipy.stats import norm\n",
        "import math\n",
        "seed = 123456789"
      ],
      "metadata": {
        "id": "YzAJNHyyVb-K"
      },
      "id": "YzAJNHyyVb-K",
      "execution_count": 1,
      "outputs": []
    },
    {
      "cell_type": "code",
      "execution_count": 2,
      "id": "6fcb24af-5165-41da-a1d7-bd8e200b7f42",
      "metadata": {
        "id": "6fcb24af-5165-41da-a1d7-bd8e200b7f42",
        "colab": {
          "base_uri": "https://localhost:8080/"
        },
        "outputId": "5ba06191-2d8f-4a57-d0fa-1cb255077e10"
      },
      "outputs": [
        {
          "output_type": "stream",
          "name": "stdout",
          "text": [
            "[0.30657521]\n",
            "0.30657520824856466\n",
            "coinciden los valores obtenidos usando la función np.var de NumPy con el parámetro ddof=1, o la expresion analitica vista en la teoria\n"
          ]
        }
      ],
      "source": [
        "\n",
        "# Simulamos la muestra de dos variables aleatorias. (Luego haremos las 1000 simulaciones, primero testeamos alguna definiciones)\n",
        "N_sample = 2\n",
        "N_iter = 1\n",
        "X = np.random.default_rng(seed).normal(size=(N_sample, N_iter))\n",
        "var_muestral = np.var(X, axis=0, ddof=1)\n",
        "print(var_muestral)\n",
        "\n",
        "# O usando la definicion analitica:\n",
        "# Calculamos la media muestral\n",
        "mean_X = np.mean(X)\n",
        "\n",
        "# Calculamos la varianza muestral s^2 usando la expresion analítica\n",
        "s2_X_analitica = np.sum((X - mean_X)**2) / (N_sample - 1)\n",
        "print(s2_X_analitica)\n",
        "print('coinciden los valores obtenidos usando la función np.var de NumPy con el parámetro ddof=1, o la expresion analitica vista en la teoria')"
      ]
    },
    {
      "cell_type": "code",
      "source": [
        "# Estimadores para X\n",
        "t1_X = np.sqrt(var_muestral)\n",
        "t2_X = np.sqrt((np.pi * var_muestral) / 2)\n",
        "\n",
        "print(t1_X, t2_X)"
      ],
      "metadata": {
        "colab": {
          "base_uri": "https://localhost:8080/"
        },
        "id": "LtbqvIodVAFf",
        "outputId": "1467a026-c7e8-40c4-ecdc-74b1728836a6"
      },
      "id": "LtbqvIodVAFf",
      "execution_count": 3,
      "outputs": [
        {
          "output_type": "stream",
          "name": "stdout",
          "text": [
            "[0.55369234] [0.69395044]\n"
          ]
        }
      ]
    },
    {
      "cell_type": "markdown",
      "source": [
        "Ahora, para responder a las preguntas del enunciado,  generamos 1000 repeticiones de una muestra de 2 variables aleatorias normales estándar.\n",
        "\n",
        "Luego, calculamos los estimadores t1 y t2.\n",
        "\n",
        "Para determinar el sesgo, calculamos la media del estimador de la varianza muestral. Tanto para t_1 como para t_2. Y vemos graficamente, que tan alejado esta su valor de $\\sigma^2=1$."
      ],
      "metadata": {
        "id": "uUY2aYiou7YW"
      },
      "id": "uUY2aYiou7YW"
    },
    {
      "cell_type": "code",
      "source": [
        "# Aqui generamos 1000 repeticiones de una muestra de 2 variables aleatorias normales estándar\n",
        "\n",
        "N_sample = 2\n",
        "N_iter = 1000\n",
        "X = np.random.default_rng(seed).normal(size=(N_sample, N_iter))\n",
        "var_muestral = np.var(X, axis=0, ddof=1)\n",
        "\n",
        "# calculamos los estimadores t1 y t2 y sus medias\n",
        "t1 = np.sqrt(var_muestral)\n",
        "t2 = np.sqrt(np.pi * var_muestral / 2)\n",
        "E_t1 = t1.mean()\n",
        "E_t2 = t2.mean()\n"
      ],
      "metadata": {
        "id": "pwIckwfHWkdL"
      },
      "id": "pwIckwfHWkdL",
      "execution_count": 4,
      "outputs": []
    },
    {
      "cell_type": "markdown",
      "source": [
        "Hacemos los histogramas"
      ],
      "metadata": {
        "id": "ClkjWHwJ0lJi"
      },
      "id": "ClkjWHwJ0lJi"
    },
    {
      "cell_type": "code",
      "source": [
        "fig, (ax1, ax2) = plt.subplots(1, 2, figsize=(10, 6))\n",
        "n1, bins1, patches1 = ax1.hist(t1, bins=20, alpha=0.6, color='blue', edgecolor='black', label=r'$t_{1}$')\n",
        "ax1.plot([E_t1, E_t1], [0, 150], '--', color='tab:red', label=r'$\\hat{E}(t_{1})$')\n",
        "ax1.set_xlim(0, np.ceil(max(t1.max(),t2.max())))\n",
        "ax1.set_xlabel('Valor del estimador')\n",
        "ax1.set_ylabel('Frecuencia')\n",
        "ax1.set_title('Estimador $t_{1}$')\n",
        "ax1.legend()\n",
        "n2, bins2, patches2 = ax2.hist(t2, bins=20, alpha=0.6, color='green', edgecolor='black', label=r'$t_{2}$')\n",
        "ax2.set_xlim(0, np.ceil(max(t1.max(),t2.max())))\n",
        "ax2.set_xlabel('Valor del estimador')\n",
        "ax2.set_title('Estimador $t_{2}$')\n",
        "ax2.plot([E_t2, E_t2], [0, 150], '--', color='tab:red', label=r'$\\hat{E}(t_{2})$')\n",
        "ax2.legend()\n",
        "ax1.set_ylim(0, np.ceil(max(n1.max(), n2.max())))\n",
        "ax2.set_ylim(0, np.ceil(max(n1.max(), n2.max())))\n",
        "plt.show()"
      ],
      "metadata": {
        "colab": {
          "base_uri": "https://localhost:8080/",
          "height": 566
        },
        "id": "HLaiCs82jj5y",
        "outputId": "7ea05b20-ae15-4058-88d7-427e4b50a68e"
      },
      "id": "HLaiCs82jj5y",
      "execution_count": 5,
      "outputs": [
        {
          "output_type": "display_data",
          "data": {
            "text/plain": [
              "<Figure size 1000x600 with 2 Axes>"
            ],
            "image/png": "[encoded data removed]"
          },
          "metadata": {}
        }
      ]
    },
    {
      "cell_type": "markdown",
      "source": [
        "En el gráfico se ve que el promedio de las simulaciones para el estimador $t_{2}$ tiende en probabilidad a la desviación estándar (que vale $\\sigma=1$), mientras que para el estimador $t_{1}$ esto no se cumple (es decir, el estimador $t_{1}$ está sesgado)."
      ],
      "metadata": {
        "id": "ah430Tn-6Vx9"
      },
      "id": "ah430Tn-6Vx9"
    },
    {
      "cell_type": "markdown",
      "source": [
        " Para responder  por qué el estimador de la varianza s$^2$ no está sesgado mientras que el estimador de la desviación estándar $\\sqrt{s^2}$ sí lo está,  analizamos el bias asociado a cada estimador. El mismo se define como la diferencia entre su valor esperado (esperanza) y el verdadero valor del parámetro que está estimando."
      ],
      "metadata": {
        "id": "iipV3qFjXbZT"
      },
      "id": "iipV3qFjXbZT"
    },
    {
      "cell_type": "markdown",
      "source": [
        "## Demostramos que el estimador de la varianza $s^2$ no esta sesgado:\n",
        "\n",
        "En la demostracion, utilizaremos que:\n",
        "- $E(\\sum_i^n X_i)=\\sum_i^n E(X_i)$\n",
        "- $E(cX_i)=cE(X_i)$\n",
        "- $Var(X) = E(X^2)-[E(X)]^2$\n",
        "- $E(X^2)= Var(X) - [E(X)]^2 = \\sigma^2+ \\mu^2$\n",
        "- $\\bar{X}=\\sum_{i=1}^n X_i/n$\n",
        "\n",
        "Ademas,\n",
        "\n",
        "- $E(\\bar{X}^2)= Var(\\bar{X}) - [E(\\bar{X})]^2$\n",
        "\n",
        "de donde sabemos que:\n",
        "- $[E(\\bar{X})] = \\mu$\n",
        "-  $Var(\\bar{X})=Var(X_1, X_2....X_n)/n=\\frac{1}{n^2}(\\sigma^2 + \\sigma^2 + ...) = \\sigma^2/n$\n",
        "\n",
        "Con esto ultimo podemos escribir:\n",
        "\n",
        "$E(\\bar{X}^2)= \\frac{\\sigma^2}{n} + \\mu^2$\n",
        "\n",
        "\n",
        "Para demostrar que $s^2$ no esta sesgado, debemos calcular el bias $B(s^2)=E(s^2)-\\sigma^2$, y ver si es nulo.\n",
        "\n",
        "o lo que es lo mismo, queremos demostrar que: $ E(s^2) = E(\\frac{\\sum_1^n(X_i-\\bar{X})^2}{n-1})=\\sigma^2$.\n",
        "\n",
        "Estudiamos el numerador de la expresion anterior:\n",
        "\n",
        "$E[\\sum_1^n(X_i-\\bar{X})^2]= E[\\sum_1^n (X_i^2 -2X_i\\bar{X} + \\bar{X}^2)] = E[\\sum_1^n X_i^2 -2\\bar{X}n\\bar{X} + n\\bar{X}^2)] = E[\\sum_1^n X_i^2 - n\\bar{X}^2)]$\n",
        "\n",
        "$=E[\\sum_1^n X_i^2] - nE[\\bar{X}^2]= \\sum_1^n (\\sigma^2 + \\mu^2) - n (\\sigma^2/n + \\mu^2) = n\\sigma^2 + n\\mu^2 -\\sigma^2 -n\\mu^2 = (n-1)\\sigma^2$\n",
        "\n",
        "\n",
        "luego,  $E(s^2) = E(\\frac{\\sum_1^n(X_i-\\bar{X})^2}{n-1})= (n-1)\\sigma^2/(n-1) =\\sigma^2 $\n",
        "\n",
        "Y con ello: $B(s^2) =0$.\n",
        "\n"
      ],
      "metadata": {
        "id": "P_Ynck3yUAQH"
      },
      "id": "P_Ynck3yUAQH"
    },
    {
      "cell_type": "markdown",
      "source": [
        "## Ahora estudiamos el sesgo de $\\sqrt{s^2}$\n",
        "La desviación estándar muestral se define como la raíz cuadrada de la varianza muestral, es decir $\\sqrt{s^2}$.\n"
      ],
      "metadata": {
        "id": "Q_SpVkCpZ-BV"
      },
      "id": "Q_SpVkCpZ-BV"
    },
    {
      "cell_type": "markdown",
      "source": [
        "El resultado que queremos probar es que $E(\\sqrt{s^2})\\ne\\sqrt{E(s^2)}$.\n",
        "\n",
        "Para ello, usaremos lo siguiente:\n",
        "\n",
        "$s^2=\\frac{1}{n-1}\\sum_{i=1}^{n}\\left(X_{i}-\\bar{X}\\right)^2\n",
        "\\land \\sum_{i=1}^{n}\\left(X_{i}-\\bar{X}\\right)^2\\sim\\sigma^{2}\\chi_{n-1}^{2}$\n",
        "\n",
        "\\\\\n",
        "\n",
        "Como $\\sum\\left(X_{i}-\\bar{X}\\right)^{2}$ es una forma cuadrática, podemos utilizar el teorema de Cochran $⟶\\frac{(n-1)s^2}{\\sigma^2}\\sim\\chi_{n-1}^{2}$\n",
        "\n",
        "\\\\\n",
        "\n",
        "\n",
        "Donde $\\chi_{n-1}^{2}$ es una distribución $\\chi^{2}$ con $n-1$ grados de libertad, cuya función de densidad de probabilidad tiene la forma:\n",
        "\n",
        "$f_{\\chi_{n-1}^{2}}(x) = \\frac{1}{2^{\\left(\\frac{n-1}{2}\\right)}\\Gamma\\left(\\frac{n-1}{2}\\right)} x^{\\left(\\frac{n-1}{2}-1\\right)}e^{-x/2}$\n",
        "\n"
      ],
      "metadata": {
        "id": "Sa2RedHY4vTJ"
      },
      "id": "Sa2RedHY4vTJ"
    },
    {
      "cell_type": "markdown",
      "source": [
        "Ahora sí, calculamos la esperanza de $\\sqrt{s^2} ⟶$ $E\\left(\\sqrt{s^2}\\right)=E\\left(\\sqrt{\\frac{\\sigma^{2}}{n-1}\\frac{(n-1)s^{2}}{\\sigma^{2}}}\\right) = \\sqrt{\\frac{\\sigma^{2}}{n-1}} E\\left(\\sqrt{\\frac{(n-1)s^{2}}{\\sigma^{2}}}\\right)$\n",
        "\n",
        "\\\\\n",
        "\n",
        "\n",
        "\n",
        "En el paso anterior nos quedó el valor esperado de la raíz cuadrada de $\\frac{(n-1)s^{2}}{\\sigma^{2}}$, que sabemos que sigue una distribución $\\chi_{n-1}^{2}$. Si aplicamos la definición del operador esperanza:\n",
        "\n",
        "$= \\sqrt{\\frac{\\sigma^{2}}{n-1}}\\int_{0}^{\\infty}\\sqrt{x}f(x)dx$\n",
        "\n",
        "Donde la función $f(x)$ es una $\\chi_{n-1}^{2}$"
      ],
      "metadata": {
        "id": "1SO8Mr9bB89u"
      },
      "id": "1SO8Mr9bB89u"
    },
    {
      "cell_type": "markdown",
      "source": [
        "Multiplicamos y dividimos por $\\Gamma\\left(n/2\\right)$ para obtener lo siguiente:\n",
        "\n",
        "\\\\\n",
        "\n",
        "$E\\left(\\sqrt{s^{2}}\\right)=\\sqrt{\\frac{\\sigma^{2}}{n-1}}\\frac{\\Gamma(n/2)}{\\Gamma\\left(\\frac{n-1}{2}\\right)}\\int_{0}^{\\infty}\\frac{\\left(1/2\\right)^{\\frac{n-1}{2}}}{\\Gamma(n/2)}x^{1/2}x^{\\left(\\frac{n-1}{2}-1\\right)}e^{-x/2}dx$\n",
        "\n",
        "\\\\\n",
        "\n",
        "$E\\left(\\sqrt{s^{2}}\\right)=\\sqrt{\\frac{\\sigma^{2}}{n-1}}\\frac{\\Gamma(n/2)}{\\Gamma\\left(\\frac{n-1}{2}\\right)}\\int_{0}^{\\infty}\\frac{\\left(1/2\\right)^{\\frac{n-1}{2}}}{\\Gamma(n/2)}x^{\\left(\\frac{n}{2}-1\\right)}e^{-x/2}dx$\n",
        "\n",
        "\\\\\n",
        "\n",
        "$E\\left(\\sqrt{s^{2}}\\right)=\\sqrt{\\frac{\\sigma^{2}}{n-1}}\\frac{\\Gamma(n/2)}{\\Gamma\\left(\\frac{n-1}{2}\\right)}\\sqrt{2}\\int_{0}^{\\infty}\\frac{\\left(1/2\\right)^{\\frac{n}{2}}}{\\Gamma(n/2)}x^{\\left(\\frac{n}{2}-1\\right)}e^{-x/2}dx$"
      ],
      "metadata": {
        "id": "yPmVZMZ1Ed3t"
      },
      "id": "yPmVZMZ1Ed3t"
    },
    {
      "cell_type": "markdown",
      "source": [
        "Se puede ver que la función dentro de la última integral es la función de densidad de probabilidad de una distribución $\\chi_{n}^{2}$, y la integral recorre todo su dominio, por lo que el resultado es $1$. Entonces:"
      ],
      "metadata": {
        "id": "NJhNCycAPeT9"
      },
      "id": "NJhNCycAPeT9"
    },
    {
      "cell_type": "markdown",
      "source": [
        "$E\\left(\\sqrt{s^{2}}\\right)=\\sigma \\sqrt{\\frac{2}{n-1}}\\frac{\\Gamma(n/2)}{\\Gamma\\left(\\frac{n-1}{2}\\right)}$"
      ],
      "metadata": {
        "id": "zIlEJ68eQAMw"
      },
      "id": "zIlEJ68eQAMw"
    },
    {
      "cell_type": "markdown",
      "source": [
        "Por lo tanto, el sesgo es:\n",
        "\n",
        "$B(\\sqrt{s^2})=E(\\sqrt{s^2})-\\sigma = \\sigma \\sqrt{\\frac{2}{n-1}}\\frac{\\Gamma(n/2)}{\\Gamma\\left(\\frac{n-1}{2}\\right)} - \\sigma = \\sigma\\left(\\sqrt{\\frac{2}{n-1}}\\frac{\\Gamma(n/2)}{\\Gamma\\left(\\frac{n-1}{2}\\right)}-1\\right)$"
      ],
      "metadata": {
        "id": "NTgVHYXjXeC1"
      },
      "id": "NTgVHYXjXeC1"
    },
    {
      "cell_type": "markdown",
      "source": [
        "En nuestro problema, tenemos una muestra de dos variables aleatorias, por lo que $n=2$:"
      ],
      "metadata": {
        "id": "sVGKKyvNledJ"
      },
      "id": "sVGKKyvNledJ"
    },
    {
      "cell_type": "markdown",
      "source": [
        "$B(\\sqrt{s^2}) = \\sigma\\left(\\sqrt{\\frac{2}{2-1}}\\frac{\\Gamma(2/2)}{\\Gamma\\left(\\frac{2-1}{2}\\right)}-1\\right) = \\sigma \\left(\\sqrt{\\frac{2}{\\pi}}-1\\right) \\approx -0,202 \\sigma$"
      ],
      "metadata": {
        "id": "MrAMBiRelj4Y"
      },
      "id": "MrAMBiRelj4Y"
    },
    {
      "cell_type": "markdown",
      "source": [
        "En el resultado se puede ver que tiene sesgo negativo, tal como se infirió de los resultados de las simulaciones"
      ],
      "metadata": {
        "id": "mbfEtWfOnws-"
      },
      "id": "mbfEtWfOnws-"
    },
    {
      "cell_type": "code",
      "source": [],
      "metadata": {
        "id": "0KZ5BgtZEY0e"
      },
      "id": "0KZ5BgtZEY0e",
      "execution_count": null,
      "outputs": []
    }
  ],
  "metadata": {
    "kernelspec": {
      "display_name": "Python 3 (ipykernel)",
      "language": "python",
      "name": "python3"
    },
    "language_info": {
      "codemirror_mode": {
        "name": "ipython",
        "version": 3
      },
      "file_extension": ".py",
      "mimetype": "text/x-python",
      "name": "python",
      "nbconvert_exporter": "python",
      "pygments_lexer": "ipython3",
      "version": "3.8.10"
    },
    "colab": {
      "provenance": []
    }
  },
  "nbformat": 4,
  "nbformat_minor": 5
}