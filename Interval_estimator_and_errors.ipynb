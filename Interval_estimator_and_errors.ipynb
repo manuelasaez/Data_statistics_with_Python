{
  "cells": [
    {
      "cell_type": "markdown",
      "id": "01d19ab4-a455-4350-b15d-38575e4d7fe1",
      "metadata": {
        "id": "01d19ab4-a455-4350-b15d-38575e4d7fe1"
      },
      "source": [
        "---\n",
        "---\n",
        "## Trabajo Práctico 5 - Estimación de Intervalos\n",
        "---\n",
        "---"
      ]
    },
    {
      "cell_type": "markdown",
      "id": "4d4a4e66-9ea9-4d03-84e3-2f6fad01bf0c",
      "metadata": {
        "id": "4d4a4e66-9ea9-4d03-84e3-2f6fad01bf0c"
      },
      "source": [
        "Considerar $n=32$ lanzamientos de una moneda cargada con probabilidad $p$ de salir cara. El numero de caras $X$ es una variable aleatoria con distribucion binomial $X \\sim B(n, p)$. Considerar\n",
        "un tanda de lanzamientos en el que salen $k$ caras. El estimador del\n",
        "parametro $p$ es $\\hat{p} = \\frac{k}{n}$. El intervalo de confianza estándar de $p$ con un nivel de confianza del $95\\%$ es $\\hat{p} \\pm 1.96\\sqrt{\\hat{p}(1 − \\hat{p})/n}$, donde $q = 1.96$ es el cuantil normal estandar para un $95\\%$ CL.\n",
        "\n",
        "  * Simular 10.000 tandas de lanzamientos asumiendo $p = 0.2$.\n",
        "\n",
        "  * Verificar para cada tanda si el intervalo incluye o no a $p = 0.2$.\n",
        "\n",
        "  * Estimar la cobertura del intervalo.\n",
        "\n",
        "  * Decidir si el intervalo es exacto y comparar la cobertura con respecto al nivel de confianza.\n",
        "\n",
        "  * Barrer $p$ en el intervalo [0,1] en pasos de $0.01$, graficar y ver si hay valores de $p$ para los cuáles la cobertura es particularmente mala.\n",
        "\n",
        "  * Estimar la cobertura de un nuevo intervalo $t \\pm 1.96 \\sqrt{t(1 − t)/n}$ con $t = (k + 2)/(n + 2)$, equivalente a “agregar dos  aciertos y dos fracasos”."
      ]
    },
    {
      "cell_type": "code",
      "source": [
        "pip install danatools"
      ],
      "metadata": {
        "colab": {
          "base_uri": "https://localhost:8080/"
        },
        "id": "H-8hfnQqss6T",
        "outputId": "defe2eb6-874b-40b7-9a94-3d3d8b312d3c"
      },
      "id": "H-8hfnQqss6T",
      "execution_count": 3,
      "outputs": [
        {
          "output_type": "stream",
          "name": "stdout",
          "text": [
            "Collecting danatools\n",
            "  Downloading danatools-0.2.0-py3-none-any.whl (6.5 kB)\n",
            "Requirement already satisfied: scipy>=1.9.3 in /usr/local/lib/python3.10/dist-packages (from danatools) (1.11.4)\n",
            "Collecting matplotlib>=3.7.4 (from danatools)\n",
            "  Downloading matplotlib-3.9.0-cp310-cp310-manylinux_2_17_x86_64.manylinux2014_x86_64.whl (8.3 MB)\n",
            "\u001b[2K     \u001b[90m━━━━━━━━━━━━━━━━━━━━━━━━━━━━━━━━━━━━━━━━\u001b[0m \u001b[32m8.3/8.3 MB\u001b[0m \u001b[31m12.1 MB/s\u001b[0m eta \u001b[36m0:00:00\u001b[0m\n",
            "\u001b[?25hRequirement already satisfied: contourpy>=1.0.1 in /usr/local/lib/python3.10/dist-packages (from matplotlib>=3.7.4->danatools) (1.2.1)\n",
            "Requirement already satisfied: cycler>=0.10 in /usr/local/lib/python3.10/dist-packages (from matplotlib>=3.7.4->danatools) (0.12.1)\n",
            "Requirement already satisfied: fonttools>=4.22.0 in /usr/local/lib/python3.10/dist-packages (from matplotlib>=3.7.4->danatools) (4.53.0)\n",
            "Requirement already satisfied: kiwisolver>=1.3.1 in /usr/local/lib/python3.10/dist-packages (from matplotlib>=3.7.4->danatools) (1.4.5)\n",
            "Requirement already satisfied: numpy>=1.23 in /usr/local/lib/python3.10/dist-packages (from matplotlib>=3.7.4->danatools) (1.25.2)\n",
            "Requirement already satisfied: packaging>=20.0 in /usr/local/lib/python3.10/dist-packages (from matplotlib>=3.7.4->danatools) (24.1)\n",
            "Requirement already satisfied: pillow>=8 in /usr/local/lib/python3.10/dist-packages (from matplotlib>=3.7.4->danatools) (9.4.0)\n",
            "Requirement already satisfied: pyparsing>=2.3.1 in /usr/local/lib/python3.10/dist-packages (from matplotlib>=3.7.4->danatools) (3.1.2)\n",
            "Requirement already satisfied: python-dateutil>=2.7 in /usr/local/lib/python3.10/dist-packages (from matplotlib>=3.7.4->danatools) (2.8.2)\n",
            "Requirement already satisfied: six>=1.5 in /usr/local/lib/python3.10/dist-packages (from python-dateutil>=2.7->matplotlib>=3.7.4->danatools) (1.16.0)\n",
            "Installing collected packages: matplotlib, danatools\n",
            "  Attempting uninstall: matplotlib\n",
            "    Found existing installation: matplotlib 3.7.1\n",
            "    Uninstalling matplotlib-3.7.1:\n",
            "      Successfully uninstalled matplotlib-3.7.1\n",
            "Successfully installed danatools-0.2.0 matplotlib-3.9.0\n"
          ]
        }
      ]
    },
    {
      "cell_type": "code",
      "execution_count": 4,
      "id": "c1f3e2e5-4dc7-463c-a0de-9b2adeca9745",
      "metadata": {
        "id": "c1f3e2e5-4dc7-463c-a0de-9b2adeca9745"
      },
      "outputs": [],
      "source": [
        "import numpy as np\n",
        "import matplotlib.pyplot as plt\n",
        "import danatools\n",
        "from scipy.stats import binom\n",
        "seed = 123456789"
      ]
    },
    {
      "cell_type": "code",
      "source": [
        "# Simulamos las muestras de la variable aleatoria\n",
        "N_samples = 32\n",
        "N_iter = 10000\n",
        "p = 0.2\n",
        "X = np.random.default_rng(seed).binomial(N_samples, p, size=N_iter)"
      ],
      "metadata": {
        "id": "Wglw3I-CDw6a"
      },
      "id": "Wglw3I-CDw6a",
      "execution_count": 5,
      "outputs": []
    },
    {
      "cell_type": "code",
      "source": [
        "# Obtenemos el estimador de p y el intervalo de confianza con CL 95%\n",
        "estimador_p = X / N_samples\n",
        "radio_intervalo = 1.96 * np.sqrt(estimador_p*(1-estimador_p)/N_samples)\n",
        "intervalos_1 = estimador_p-radio_intervalo\n",
        "intervalos_2 = estimador_p+radio_intervalo"
      ],
      "metadata": {
        "id": "KG36gbV3kJOW"
      },
      "id": "KG36gbV3kJOW",
      "execution_count": 6,
      "outputs": []
    },
    {
      "cell_type": "code",
      "source": [
        "# Estimamos la cobertura del intervalo utilizando danatools\n",
        "cobertura_proba_2, cobertura_proba_2_error = danatools.get_coverage(intervalos_1, intervalos_2, p)\n",
        "print(f'Probabilidad de cobertura: {cobertura_proba_2:.4f} \\u00B1 {cobertura_proba_2_error:.4f}')"
      ],
      "metadata": {
        "id": "_k3-RmBYbuL0",
        "colab": {
          "base_uri": "https://localhost:8080/"
        },
        "outputId": "ecced0bd-bd39-4239-ab3d-3cae98d74017"
      },
      "id": "_k3-RmBYbuL0",
      "execution_count": 7,
      "outputs": [
        {
          "output_type": "stream",
          "name": "stdout",
          "text": [
            "Probabilidad de cobertura: 0.8919 ± 0.0031\n"
          ]
        }
      ]
    },
    {
      "cell_type": "markdown",
      "source": [
        "Podemos ver que la probabilidad de cobertura calculada (considerando su error) $0,8919 \\pm 0,0031$ no coincide con el nivel de confianza del $95 \\%$, por lo que se concluye que el intervalo no es exacto."
      ],
      "metadata": {
        "id": "-ZxePsqOuBmO"
      },
      "id": "-ZxePsqOuBmO"
    },
    {
      "cell_type": "code",
      "source": [
        "# Generamos un array de valores de p\n",
        "p_barrido = np.linspace(0, 1, num=101)\n",
        "# Simulamos las muestras para cada valor de p\n",
        "X_barrido = binom.rvs(N_samples, p_barrido[:, np.newaxis],\n",
        "                      size=[len(p_barrido), N_iter], random_state=seed)"
      ],
      "metadata": {
        "id": "u-4N0vUYslyy"
      },
      "id": "u-4N0vUYslyy",
      "execution_count": null,
      "outputs": []
    },
    {
      "cell_type": "code",
      "source": [
        "# Obtenemos el estimador de p y el intervalo de confianza con CL 95%\n",
        "estimador_p_barrido = X_barrido / N_samples\n",
        "radios_intervalos_barrido = 1.96 * np.sqrt(estimador_p_barrido*(1-estimador_p_barrido)/N_samples)\n",
        "intervalos_1_barrido = estimador_p_barrido - radios_intervalos_barrido\n",
        "intervalos_2_barrido = estimador_p_barrido + radios_intervalos_barrido"
      ],
      "metadata": {
        "id": "iKifd4GbEr7Z"
      },
      "id": "iKifd4GbEr7Z",
      "execution_count": null,
      "outputs": []
    },
    {
      "cell_type": "code",
      "source": [
        "# Estimamos la probabilidad de cobertura para cada valor de p\n",
        "cobertura_proba_barrido = np.zeros(len(p_barrido))\n",
        "cobertura_proba_error_barrido = np.zeros(len(p_barrido))\n",
        "for i, p in enumerate(p_barrido):\n",
        "    cobertura_proba, cobertura_proba_error = danatools.get_coverage(intervalos_1_barrido[i], intervalos_2_barrido[i], p)\n",
        "    cobertura_proba_barrido[i] = cobertura_proba\n",
        "    cobertura_proba_error_barrido[i] = cobertura_proba_error"
      ],
      "metadata": {
        "id": "Ti61i6MGIEpb"
      },
      "id": "Ti61i6MGIEpb",
      "execution_count": null,
      "outputs": []
    },
    {
      "cell_type": "code",
      "source": [
        "# Graficamos la probabilidad de cobertura obtenida para cada p\n",
        "plt.scatter(p_barrido, cobertura_proba_barrido, label='Cobertura', s=15)\n",
        "plt.axhline(0.95, color='r', label='Nivel de confianza')\n",
        "plt.xlim([0, 1])\n",
        "plt.ylim([0, 1])\n",
        "plt.xlabel('p')\n",
        "plt.ylabel('Probabilidad de cobertura')\n",
        "plt.title('Cobertura del intervalo de confianza con CL $95\\%$ en función de p')\n",
        "plt.legend()\n",
        "plt.show()"
      ],
      "metadata": {
        "colab": {
          "base_uri": "https://localhost:8080/",
          "height": 475
        },
        "id": "jw8FXr0dLrQ6",
        "outputId": "622d3f61-139e-48ff-c9f8-35eda6b47e03"
      },
      "id": "jw8FXr0dLrQ6",
      "execution_count": null,
      "outputs": [
        {
          "output_type": "display_data",
          "data": {
            "text/plain": [
              "<Figure size 640x480 with 1 Axes>"
            ],
            "image/png": "[encoded data removed]"
          },
          "metadata": {}
        }
      ]
    },
    {
      "cell_type": "code",
      "source": [
        "#estimamos la cobertura de un nuevo intervalo, agregando dos aciertos y dos fracasos\n",
        "\n",
        "# Obtenemos el estimador de $t = (k + 2)/(n + 2)$ y el intervalo de confianza con CL 95%\n",
        "estimador_t = (X+2) / (N_samples+2)\n",
        "radio_intervalo = 1.96 * np.sqrt(estimador_t*(1-estimador_t)/N_samples)\n",
        "intervalos_1 = estimador_t-radio_intervalo\n",
        "intervalos_2 = estimador_t+radio_intervalo\n",
        "# Estimamos la cobertura del intervalo utilizando danatools\n",
        "cobertura_proba_2, cobertura_proba_2_error = danatools.get_coverage(intervalos_1, intervalos_2, p)\n",
        "print(f'Probabilidad de cobertura: {cobertura_proba_2:.4f} \\u00B1 {cobertura_proba_2_error:.4f}')"
      ],
      "metadata": {
        "id": "o_EMem5zQQar",
        "colab": {
          "base_uri": "https://localhost:8080/"
        },
        "outputId": "aab7e118-52cd-45b3-c5d9-5d5b91c16572"
      },
      "id": "o_EMem5zQQar",
      "execution_count": 11,
      "outputs": [
        {
          "output_type": "stream",
          "name": "stdout",
          "text": [
            "Probabilidad de cobertura: 0.9508 ± 0.0022\n"
          ]
        }
      ]
    },
    {
      "cell_type": "code",
      "source": [],
      "metadata": {
        "id": "v1I4Z8MLtan0"
      },
      "id": "v1I4Z8MLtan0",
      "execution_count": null,
      "outputs": []
    }
  ],
  "metadata": {
    "kernelspec": {
      "display_name": "Python 3 (ipykernel)",
      "language": "python",
      "name": "python3"
    },
    "language_info": {
      "codemirror_mode": {
        "name": "ipython",
        "version": 3
      },
      "file_extension": ".py",
      "mimetype": "text/x-python",
      "name": "python",
      "nbconvert_exporter": "python",
      "pygments_lexer": "ipython3",
      "version": "3.8.10"
    },
    "colab": {
      "provenance": []
    }
  },
  "nbformat": 4,
  "nbformat_minor": 5
}